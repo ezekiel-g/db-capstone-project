{
 "cells": [
  {
   "cell_type": "code",
   "execution_count": 1,
   "id": "646d8444-2f71-4c6f-93ee-f331f61e05e6",
   "metadata": {},
   "outputs": [],
   "source": [
    "# Import MySQL connector\n",
    "import mysql.connector as connector"
   ]
  },
  {
   "cell_type": "code",
   "execution_count": 2,
   "id": "72a094ae-1fd6-4c88-985f-40122b722497",
   "metadata": {},
   "outputs": [],
   "source": [
    "# Connect to MySQL server\n",
    "connection = connector.connect(\n",
    "\tuser = 'user1',\n",
    "\tpassword = 'password',\n",
    "\tdb = 'little_lemon_db'\n",
    ")"
   ]
  },
  {
   "cell_type": "code",
   "execution_count": 3,
   "id": "94988c55-8174-4082-8cab-dec4700e084a",
   "metadata": {},
   "outputs": [],
   "source": [
    "# Create cursor\n",
    "cursor = connection.cursor()"
   ]
  },
  {
   "cell_type": "code",
   "execution_count": 4,
   "id": "11144b45-11bc-45dd-a6bd-90bd1d26e73e",
   "metadata": {},
   "outputs": [],
   "source": [
    "# Create query\n",
    "query_string = \"\"\"\n",
    "\tSELECT\n",
    "\t\tCONCAT(\n",
    "\t\t\tcustomers.first_name,\n",
    "\t        ' ',\n",
    "\t        customers.last_name\n",
    "\t    ) AS CustomerName,\n",
    "\t    customers.phone_number AS PhoneNumber,\n",
    "\t    customers.email AS Email,\n",
    "\t    orders.total_cost AS BillAmount\n",
    "\tFROM customers\n",
    "\tJOIN bookings ON customers.id = bookings.customer_id\n",
    "\tJOIN orders ON bookings.id = orders.booking_id\n",
    "\tWHERE orders.total_cost > 60;\n",
    "\"\"\""
   ]
  },
  {
   "cell_type": "code",
   "execution_count": 5,
   "id": "9f7851eb-3175-4dbf-8b8a-fa7d983e5671",
   "metadata": {},
   "outputs": [],
   "source": [
    "# Execute query\n",
    "cursor.execute(query_string)"
   ]
  },
  {
   "cell_type": "code",
   "execution_count": 6,
   "id": "00aca2d0-5afe-4d04-a91e-b91a039a3f5a",
   "metadata": {},
   "outputs": [],
   "source": [
    "# Assign results to variable\n",
    "results = cursor.fetchall()"
   ]
  },
  {
   "cell_type": "code",
   "execution_count": 7,
   "id": "c6416f32-0b72-404d-bb00-1c626614db2c",
   "metadata": {},
   "outputs": [
    {
     "name": "stdout",
     "output_type": "stream",
     "text": [
      "('Alicia Hernandez', '555-0147', 'alicia.h@example.com', Decimal('92.00'))\n",
      "('Marcus Nguyen', '555-0239', 'marcus.nguyen@example.com', Decimal('167.00'))\n",
      "('Priya Desai', '555-0348', 'priya.desai@example.com', Decimal('153.00'))\n"
     ]
    }
   ],
   "source": [
    "# Print results\n",
    "for result in results:\n",
    "    print(result)"
   ]
  },
  {
   "cell_type": "code",
   "execution_count": null,
   "id": "47e91e91-62c3-4b53-b6fd-2e4ba446b32d",
   "metadata": {},
   "outputs": [],
   "source": []
  }
 ],
 "metadata": {
  "kernelspec": {
   "display_name": "Python 3 (ipykernel)",
   "language": "python",
   "name": "python3"
  },
  "language_info": {
   "codemirror_mode": {
    "name": "ipython",
    "version": 3
   },
   "file_extension": ".py",
   "mimetype": "text/x-python",
   "name": "python",
   "nbconvert_exporter": "python",
   "pygments_lexer": "ipython3",
   "version": "3.13.3"
  }
 },
 "nbformat": 4,
 "nbformat_minor": 5
}
