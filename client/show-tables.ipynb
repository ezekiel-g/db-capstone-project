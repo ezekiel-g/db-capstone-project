{
 "cells": [
  {
   "cell_type": "code",
   "execution_count": 1,
   "id": "6b9e7247-1df3-4fc9-954a-a8fd24afd6e4",
   "metadata": {},
   "outputs": [],
   "source": [
    "# Import MySQL connector\n",
    "import mysql.connector as connector"
   ]
  },
  {
   "cell_type": "code",
   "execution_count": 2,
   "id": "35249298-a03c-4de6-89ad-ff754d566834",
   "metadata": {},
   "outputs": [],
   "source": [
    "# Connect to MySQL server\n",
    "connection = connector.connect(\n",
    "\tuser = 'user1',\n",
    "\tpassword = 'password',\n",
    "\tdb = 'little_lemon_db'\n",
    ")"
   ]
  },
  {
   "cell_type": "code",
   "execution_count": 3,
   "id": "cdefcffe-ff17-4d3b-a0be-4e11709ffe1a",
   "metadata": {},
   "outputs": [],
   "source": [
    "# Create cursor for queries\n",
    "cursor = connection.cursor()"
   ]
  },
  {
   "cell_type": "code",
   "execution_count": 4,
   "id": "adf7b16c-20cc-43ca-b463-c7cfa78fd4d6",
   "metadata": {},
   "outputs": [],
   "source": [
    "# Create query\n",
    "show_tables_query = 'SHOW tables;'"
   ]
  },
  {
   "cell_type": "code",
   "execution_count": 5,
   "id": "0c1e901b-76c3-4ee1-aca7-41e998ef2ebb",
   "metadata": {},
   "outputs": [],
   "source": [
    "# Execute query\n",
    "cursor.execute(show_tables_query)"
   ]
  },
  {
   "cell_type": "code",
   "execution_count": 6,
   "id": "e8f1fa54-8549-4e9a-a8eb-a8bd9fd9ba9d",
   "metadata": {},
   "outputs": [],
   "source": [
    "# Assign results to variable\n",
    "results = cursor.fetchall()"
   ]
  },
  {
   "cell_type": "code",
   "execution_count": 7,
   "id": "c00f9922-454f-43a1-a151-3bb567aaac7c",
   "metadata": {},
   "outputs": [
    {
     "name": "stdout",
     "output_type": "stream",
     "text": [
      "('bookings',)\n",
      "('customers',)\n",
      "('employees',)\n",
      "('menu_item_orders',)\n",
      "('menu_items',)\n",
      "('menus',)\n",
      "('order_statuses',)\n",
      "('orders',)\n",
      "('orders_view',)\n"
     ]
    }
   ],
   "source": [
    "# Print results\n",
    "for result in results:\n",
    "    print(result)"
   ]
  },
  {
   "cell_type": "code",
   "execution_count": null,
   "id": "0e765308-c572-4b4e-9c7b-da35e6c2d483",
   "metadata": {},
   "outputs": [],
   "source": []
  }
 ],
 "metadata": {
  "kernelspec": {
   "display_name": "Python 3 (ipykernel)",
   "language": "python",
   "name": "python3"
  },
  "language_info": {
   "codemirror_mode": {
    "name": "ipython",
    "version": 3
   },
   "file_extension": ".py",
   "mimetype": "text/x-python",
   "name": "python",
   "nbconvert_exporter": "python",
   "pygments_lexer": "ipython3",
   "version": "3.13.3"
  }
 },
 "nbformat": 4,
 "nbformat_minor": 5
}
